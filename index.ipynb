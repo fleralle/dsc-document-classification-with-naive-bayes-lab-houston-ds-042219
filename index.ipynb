{
 "cells": [
  {
   "cell_type": "markdown",
   "metadata": {},
   "source": [
    "# Document Classification with Naive Bayes - Lab\n",
    "\n",
    "## Introduction\n",
    "\n",
    "In this lecture, you'll practice implementing the Naive Bayes algorithm on your own.\n",
    "\n",
    "## Objectives\n",
    "\n",
    "You will be able to:  \n",
    "\n",
    "* Implement document classification using naive Bayes\n",
    "* Understand the need for the Laplacian smoothing correction\n",
    "* Explain how to code a bag of words representation"
   ]
  },
  {
   "cell_type": "markdown",
   "metadata": {},
   "source": [
    "## Import the Dataset\n",
    "\n",
    "To start, import the dataset stored in the text file `SMSSpamCollection`."
   ]
  },
  {
   "cell_type": "code",
   "execution_count": 7,
   "metadata": {},
   "outputs": [
    {
     "data": {
      "text/html": [
       "<div>\n",
       "<style scoped>\n",
       "    .dataframe tbody tr th:only-of-type {\n",
       "        vertical-align: middle;\n",
       "    }\n",
       "\n",
       "    .dataframe tbody tr th {\n",
       "        vertical-align: top;\n",
       "    }\n",
       "\n",
       "    .dataframe thead th {\n",
       "        text-align: right;\n",
       "    }\n",
       "</style>\n",
       "<table border=\"1\" class=\"dataframe\">\n",
       "  <thead>\n",
       "    <tr style=\"text-align: right;\">\n",
       "      <th></th>\n",
       "      <th>class</th>\n",
       "      <th>text</th>\n",
       "    </tr>\n",
       "  </thead>\n",
       "  <tbody>\n",
       "    <tr>\n",
       "      <th>0</th>\n",
       "      <td>ham</td>\n",
       "      <td>Go until jurong point, crazy.. Available only ...</td>\n",
       "    </tr>\n",
       "    <tr>\n",
       "      <th>1</th>\n",
       "      <td>ham</td>\n",
       "      <td>Ok lar... Joking wif u oni...</td>\n",
       "    </tr>\n",
       "    <tr>\n",
       "      <th>2</th>\n",
       "      <td>spam</td>\n",
       "      <td>Free entry in 2 a wkly comp to win FA Cup fina...</td>\n",
       "    </tr>\n",
       "    <tr>\n",
       "      <th>3</th>\n",
       "      <td>ham</td>\n",
       "      <td>U dun say so early hor... U c already then say...</td>\n",
       "    </tr>\n",
       "    <tr>\n",
       "      <th>4</th>\n",
       "      <td>ham</td>\n",
       "      <td>Nah I don't think he goes to usf, he lives aro...</td>\n",
       "    </tr>\n",
       "  </tbody>\n",
       "</table>\n",
       "</div>"
      ],
      "text/plain": [
       "  class                                               text\n",
       "0   ham  Go until jurong point, crazy.. Available only ...\n",
       "1   ham                      Ok lar... Joking wif u oni...\n",
       "2  spam  Free entry in 2 a wkly comp to win FA Cup fina...\n",
       "3   ham  U dun say so early hor... U c already then say...\n",
       "4   ham  Nah I don't think he goes to usf, he lives aro..."
      ]
     },
     "execution_count": 7,
     "metadata": {},
     "output_type": "execute_result"
    }
   ],
   "source": [
    "#Your code here\n",
    "import pandas as pd\n",
    "\n",
    "df = pd.read_csv('SMSSpamCollection', delimiter=\"\\t\", header=None)\n",
    "df.columns = [\"class\", \"text\"]\n",
    "df.head()"
   ]
  },
  {
   "cell_type": "markdown",
   "metadata": {},
   "source": [
    "## Account for Class Imbalance\n",
    "\n",
    "To help your algorithm perform more accurately, subset the dataset so that the two classes are of equal size. To do this, keep all of the instances of the minority class (spam) and subset examples of the majority class (ham) to an equal number of examples."
   ]
  },
  {
   "cell_type": "code",
   "execution_count": 8,
   "metadata": {},
   "outputs": [
    {
     "data": {
      "text/plain": [
       "(747, 4825)"
      ]
     },
     "execution_count": 8,
     "metadata": {},
     "output_type": "execute_result"
    }
   ],
   "source": [
    "#Your code here\n",
    "spam_df = df[df['class'] == 'spam']\n",
    "ham_df = df[df['class'] == 'ham']\n",
    "\n",
    "len(spam_df), len(ham_df)"
   ]
  },
  {
   "cell_type": "code",
   "execution_count": 9,
   "metadata": {
    "scrolled": true
   },
   "outputs": [
    {
     "data": {
      "text/plain": [
       "747"
      ]
     },
     "execution_count": 9,
     "metadata": {},
     "output_type": "execute_result"
    }
   ],
   "source": [
    "ham_df = ham_df[:len(spam_df)]\n",
    "len(ham_df)"
   ]
  },
  {
   "cell_type": "code",
   "execution_count": 17,
   "metadata": {},
   "outputs": [
    {
     "data": {
      "text/html": [
       "<div>\n",
       "<style scoped>\n",
       "    .dataframe tbody tr th:only-of-type {\n",
       "        vertical-align: middle;\n",
       "    }\n",
       "\n",
       "    .dataframe tbody tr th {\n",
       "        vertical-align: top;\n",
       "    }\n",
       "\n",
       "    .dataframe thead th {\n",
       "        text-align: right;\n",
       "    }\n",
       "</style>\n",
       "<table border=\"1\" class=\"dataframe\">\n",
       "  <thead>\n",
       "    <tr style=\"text-align: right;\">\n",
       "      <th></th>\n",
       "      <th>class</th>\n",
       "      <th>text</th>\n",
       "    </tr>\n",
       "  </thead>\n",
       "  <tbody>\n",
       "    <tr>\n",
       "      <th>0</th>\n",
       "      <td>spam</td>\n",
       "      <td>Free entry in 2 a wkly comp to win FA Cup fina...</td>\n",
       "    </tr>\n",
       "    <tr>\n",
       "      <th>1</th>\n",
       "      <td>spam</td>\n",
       "      <td>FreeMsg Hey there darling it's been 3 week's n...</td>\n",
       "    </tr>\n",
       "    <tr>\n",
       "      <th>2</th>\n",
       "      <td>spam</td>\n",
       "      <td>WINNER!! As a valued network customer you have...</td>\n",
       "    </tr>\n",
       "    <tr>\n",
       "      <th>3</th>\n",
       "      <td>spam</td>\n",
       "      <td>Had your mobile 11 months or more? U R entitle...</td>\n",
       "    </tr>\n",
       "    <tr>\n",
       "      <th>4</th>\n",
       "      <td>spam</td>\n",
       "      <td>SIX chances to win CASH! From 100 to 20,000 po...</td>\n",
       "    </tr>\n",
       "  </tbody>\n",
       "</table>\n",
       "</div>"
      ],
      "text/plain": [
       "  class                                               text\n",
       "0  spam  Free entry in 2 a wkly comp to win FA Cup fina...\n",
       "1  spam  FreeMsg Hey there darling it's been 3 week's n...\n",
       "2  spam  WINNER!! As a valued network customer you have...\n",
       "3  spam  Had your mobile 11 months or more? U R entitle...\n",
       "4  spam  SIX chances to win CASH! From 100 to 20,000 po..."
      ]
     },
     "execution_count": 17,
     "metadata": {},
     "output_type": "execute_result"
    }
   ],
   "source": [
    "data = pd.concat([spam_df, ham_df], axis=0, ignore_index=True)\n",
    "data.head()"
   ]
  },
  {
   "cell_type": "markdown",
   "metadata": {},
   "source": [
    "## Train - Test Split\n",
    "\n",
    "Now implement a train test split on your dataset."
   ]
  },
  {
   "cell_type": "code",
   "execution_count": 20,
   "metadata": {},
   "outputs": [
    {
     "data": {
      "text/plain": [
       "0       Free entry in 2 a wkly comp to win FA Cup fina...\n",
       "1       FreeMsg Hey there darling it's been 3 week's n...\n",
       "2       WINNER!! As a valued network customer you have...\n",
       "3       Had your mobile 11 months or more? U R entitle...\n",
       "4       SIX chances to win CASH! From 100 to 20,000 po...\n",
       "5       URGENT! You have won a 1 week FREE membership ...\n",
       "6       XXXMobileMovieClub: To use your credit, click ...\n",
       "7       England v Macedonia - dont miss the goals/team...\n",
       "8       Thanks for your subscription to Ringtone UK yo...\n",
       "9       07732584351 - Rodger Burns - MSG = We tried to...\n",
       "10      SMS. ac Sptv: The New Jersey Devils and the De...\n",
       "11      Congrats! 1 year special cinema pass for 2 is ...\n",
       "12      As a valued customer, I am pleased to advise y...\n",
       "13      Urgent UR awarded a complimentary trip to Euro...\n",
       "14      Did you hear about the new \"Divorce Barbie\"? I...\n",
       "15      Please call our customer service representativ...\n",
       "16      Your free ringtone is waiting to be collected....\n",
       "17      GENT! We are trying to contact you. Last weeke...\n",
       "18      You are a winner U have been specially selecte...\n",
       "19      PRIVATE! Your 2004 Account Statement for 07742...\n",
       "20      URGENT! Your Mobile No. was awarded £2000 Bonu...\n",
       "21      Todays Voda numbers ending 7548 are selected t...\n",
       "22      Sunshine Quiz Wkly Q! Win a top Sony DVD playe...\n",
       "23      Want 2 get laid tonight? Want real Dogging loc...\n",
       "24      You'll not rcv any more msgs from the chat svc...\n",
       "25      FreeMsg Why haven't you replied to my text? I'...\n",
       "26      Customer service annoncement. You have a New Y...\n",
       "27      You are a winner U have been specially selecte...\n",
       "28      -PLS STOP bootydelious (32/F) is inviting you ...\n",
       "29      BangBabes Ur order is on the way. U SHOULD rec...\n",
       "                              ...                        \n",
       "1464    My stomach has been thru so much trauma I swea...\n",
       "1465    I am in office:)whats the matter..msg me now.i...\n",
       "1466    Yeah there's barely enough room for the two of...\n",
       "1467    U reach orchard already? U wan 2 go buy ticket...\n",
       "1468    I am real, baby! I want to bring out your inne...\n",
       "1469    No da if you run that it activate the full ver...\n",
       "1470    AH POOR BABY!HOPE URFEELING BETTERSN LUV! PROB...\n",
       "1471    Stop the story. I've told him i've returned it...\n",
       "1472                        Going to take your babe out ?\n",
       "1473    Hai ana tomarrow am coming on morning.  &lt;DE...\n",
       "1474                              Spoons it is then okay?\n",
       "1475              Did he just say somebody is named tampa\n",
       "1476                  In work now. Going have in few min.\n",
       "1477                             Your brother is a genius\n",
       "1478    Sorry, I guess whenever I can get a hold of my...\n",
       "1479    Did u find out what time the bus is at coz i n...\n",
       "1480        Dude ive been seeing a lotta corvettes lately\n",
       "1481    Same here, but I consider walls and bunkers an...\n",
       "1482    Well am officially in a philosophical hole, so...\n",
       "1483    Its going good...no problem..but still need li...\n",
       "1484                      I'll text you when I drop x off\n",
       "1485    Ugh its been a long day. I'm exhausted. Just w...\n",
       "1486    Talk With Yourself Atleast Once In A Day...!!!...\n",
       "1487         Are you in castor? You need to see something\n",
       "1488    see, i knew giving you a break a few times wou...\n",
       "1489    I love to give massages. I use lots of baby oi...\n",
       "1490                          Dude we should go sup again\n",
       "1491    Yoyyooo u know how to change permissions for a...\n",
       "1492                             Gibbs unsold.mike hussey\n",
       "1493    I like to talk pa but am not able to. I dont k...\n",
       "Name: text, Length: 1494, dtype: object"
      ]
     },
     "execution_count": 20,
     "metadata": {},
     "output_type": "execute_result"
    }
   ],
   "source": [
    "from sklearn.model_selection import train_test_split\n",
    "\n",
    "X = data.iloc[:,1]\n",
    "X\n",
    "# train_X, test_X, train_y, test_y"
   ]
  },
  {
   "cell_type": "markdown",
   "metadata": {},
   "source": [
    "## Create the word frequency dictionary for each class\n",
    "\n",
    "Create a word frequency dictionary for each class."
   ]
  },
  {
   "cell_type": "code",
   "execution_count": null,
   "metadata": {
    "collapsed": true
   },
   "outputs": [],
   "source": [
    "#Your code here"
   ]
  },
  {
   "cell_type": "markdown",
   "metadata": {},
   "source": [
    "## Count the Total Corpus Words\n",
    "Calculate V, the total number of words in the corpus."
   ]
  },
  {
   "cell_type": "code",
   "execution_count": null,
   "metadata": {
    "collapsed": true
   },
   "outputs": [],
   "source": [
    "#Your code here"
   ]
  },
  {
   "cell_type": "markdown",
   "metadata": {},
   "source": [
    "## Create a Bag of Words Function\n",
    "\n",
    "Before implementing the entire Naive Bayes algorithm, create a helper function `bag_it()` to create a bag of words representation from a document's text."
   ]
  },
  {
   "cell_type": "code",
   "execution_count": null,
   "metadata": {
    "collapsed": true
   },
   "outputs": [],
   "source": [
    "#Your code here"
   ]
  },
  {
   "cell_type": "markdown",
   "metadata": {},
   "source": [
    "## Implementing Naive Bayes\n",
    "\n",
    "Now, implement a master function to build a naive Bayes classifier. Be sure to use the logarithmic probabilities to avoid underflow."
   ]
  },
  {
   "cell_type": "code",
   "execution_count": null,
   "metadata": {
    "collapsed": true
   },
   "outputs": [],
   "source": [
    "#Your code here"
   ]
  },
  {
   "cell_type": "markdown",
   "metadata": {},
   "source": [
    "## Test Out Your Classifier\n",
    "\n",
    "Finally, test out your classifier and measure its accuracy. Don't be perturbed if your results are sub-par; industry use cases would require substantial additional preprocessing before implementing the algorithm in practice."
   ]
  },
  {
   "cell_type": "code",
   "execution_count": null,
   "metadata": {
    "collapsed": true
   },
   "outputs": [],
   "source": [
    "#Your Code here"
   ]
  },
  {
   "cell_type": "markdown",
   "metadata": {},
   "source": [
    "## Level-Up\n",
    "\n",
    "Rework your code into an appropriate class structure so that you could easily implement the algorithm on any given dataset."
   ]
  },
  {
   "cell_type": "markdown",
   "metadata": {},
   "source": [
    "## Summary\n",
    "\n",
    "Well done! In this lab, you practiced implementing naive Bayes' for document classification!"
   ]
  }
 ],
 "metadata": {
  "kernelspec": {
   "display_name": "Python 3",
   "language": "python",
   "name": "python3"
  },
  "language_info": {
   "codemirror_mode": {
    "name": "ipython",
    "version": 3
   },
   "file_extension": ".py",
   "mimetype": "text/x-python",
   "name": "python",
   "nbconvert_exporter": "python",
   "pygments_lexer": "ipython3",
   "version": "3.6.6"
  }
 },
 "nbformat": 4,
 "nbformat_minor": 2
}
